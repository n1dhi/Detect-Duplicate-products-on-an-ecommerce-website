{
 "cells": [
  {
   "cell_type": "code",
   "execution_count": 1,
   "metadata": {},
   "outputs": [],
   "source": [
    "import os\n",
    "import torch\n",
    "import numpy as np\n",
    "import pandas as pd\n",
    "from torch.utils.data import Dataset,DataLoader\n",
    "import torch.cuda\n",
    "import math\n",
    "import matplotlib.pyplot as plt\n",
    "import torchvision.transforms as transforms\n",
    "from skimage import io\n",
    "from   torch.autograd import Variable\n",
    "import torch.nn as nn\n",
    "import torch.nn.functional as F\n",
    "import torch.optim as optim\n",
    "plt.ion()"
   ]
  },
  {
   "cell_type": "markdown",
   "metadata": {
    "heading_collapsed": true
   },
   "source": [
    "# Data Loading and Preprocessing"
   ]
  },
  {
   "cell_type": "code",
   "execution_count": 2,
   "metadata": {
    "hidden": true
   },
   "outputs": [
    {
     "name": "stderr",
     "output_type": "stream",
     "text": [
      "/usr/local/lib/python3.6/dist-packages/IPython/core/interactiveshell.py:2785: DtypeWarning: Columns (19,29,30) have mixed types. Specify dtype option on import or set low_memory=False.\n",
      "  interactivity=interactivity, compiler=compiler, result=result)\n"
     ]
    },
    {
     "data": {
      "text/html": [
       "<div>\n",
       "<style scoped>\n",
       "    .dataframe tbody tr th:only-of-type {\n",
       "        vertical-align: middle;\n",
       "    }\n",
       "\n",
       "    .dataframe tbody tr th {\n",
       "        vertical-align: top;\n",
       "    }\n",
       "\n",
       "    .dataframe thead th {\n",
       "        text-align: right;\n",
       "    }\n",
       "</style>\n",
       "<table border=\"1\" class=\"dataframe\">\n",
       "  <thead>\n",
       "    <tr style=\"text-align: right;\">\n",
       "      <th></th>\n",
       "      <th>productId</th>\n",
       "      <th>title</th>\n",
       "      <th>description</th>\n",
       "      <th>imageUrlStr</th>\n",
       "      <th>mrp</th>\n",
       "      <th>sellingPrice</th>\n",
       "      <th>specialPrice</th>\n",
       "      <th>productUrl</th>\n",
       "      <th>categories</th>\n",
       "      <th>productBrand</th>\n",
       "      <th>...</th>\n",
       "      <th>keySpecsStr</th>\n",
       "      <th>detailedSpecsStr</th>\n",
       "      <th>specificationList</th>\n",
       "      <th>sellerName</th>\n",
       "      <th>sellerAverageRating</th>\n",
       "      <th>sellerNoOfRatings</th>\n",
       "      <th>sellerNoOfReviews</th>\n",
       "      <th>sleeve</th>\n",
       "      <th>neck</th>\n",
       "      <th>idealFor</th>\n",
       "    </tr>\n",
       "  </thead>\n",
       "  <tbody>\n",
       "    <tr>\n",
       "      <th>0</th>\n",
       "      <td>SPWDS7UPDCMEG8WH</td>\n",
       "      <td>Clovia Women's Shapewear</td>\n",
       "      <td>NaN</td>\n",
       "      <td>http://img.fkcdn.com/image/shapewear/8/w/h/sw0...</td>\n",
       "      <td>1199.0</td>\n",
       "      <td>959.0</td>\n",
       "      <td>959.0</td>\n",
       "      <td>http://dl.flipkart.com/dl/clovia-women-s-shape...</td>\n",
       "      <td>Apparels&gt;Women&gt;Lingerie &amp; Sleepwear&gt;Shapewears</td>\n",
       "      <td>Clovia</td>\n",
       "      <td>...</td>\n",
       "      <td>Type: Shapewear;Women's Shapewear;Solid Patter...</td>\n",
       "      <td>Type: Shapewear;Women's Shapewear;Solid Patter...</td>\n",
       "      <td>NaN</td>\n",
       "      <td>Neha Kant</td>\n",
       "      <td>3.6</td>\n",
       "      <td>2123</td>\n",
       "      <td>58</td>\n",
       "      <td>NaN</td>\n",
       "      <td>NaN</td>\n",
       "      <td>NaN</td>\n",
       "    </tr>\n",
       "    <tr>\n",
       "      <th>1</th>\n",
       "      <td>SPWDTSM9QHVDHTN6</td>\n",
       "      <td>Clovia Women's Shapewear</td>\n",
       "      <td>NaN</td>\n",
       "      <td>http://img.fkcdn.com/image/shapewear/z/x/w/sw0...</td>\n",
       "      <td>999.0</td>\n",
       "      <td>649.0</td>\n",
       "      <td>616.0</td>\n",
       "      <td>http://dl.flipkart.com/dl/clovia-women-s-shape...</td>\n",
       "      <td>Apparels&gt;Women&gt;Lingerie &amp; Sleepwear&gt;Shapewears</td>\n",
       "      <td>Clovia</td>\n",
       "      <td>...</td>\n",
       "      <td>Type: Thigh Slimmer;Women's Shapewear;Solid Pa...</td>\n",
       "      <td>Type: Thigh Slimmer;Women's Shapewear;Solid Pa...</td>\n",
       "      <td>NaN</td>\n",
       "      <td>Neha Kant</td>\n",
       "      <td>3.6</td>\n",
       "      <td>2123</td>\n",
       "      <td>58</td>\n",
       "      <td>NaN</td>\n",
       "      <td>NaN</td>\n",
       "      <td>NaN</td>\n",
       "    </tr>\n",
       "    <tr>\n",
       "      <th>2</th>\n",
       "      <td>SPWDTSMAGMHDNENJ</td>\n",
       "      <td>Clovia Women's Shapewear</td>\n",
       "      <td>NaN</td>\n",
       "      <td>http://img.fkcdn.com/image/shapewear/z/x/w/sw0...</td>\n",
       "      <td>999.0</td>\n",
       "      <td>649.0</td>\n",
       "      <td>616.0</td>\n",
       "      <td>http://dl.flipkart.com/dl/clovia-women-s-shape...</td>\n",
       "      <td>Apparels&gt;Women&gt;Lingerie &amp; Sleepwear&gt;Shapewears</td>\n",
       "      <td>Clovia</td>\n",
       "      <td>...</td>\n",
       "      <td>Type: Thigh Slimmer;Women's Shapewear;Solid Pa...</td>\n",
       "      <td>Type: Thigh Slimmer;Women's Shapewear;Solid Pa...</td>\n",
       "      <td>NaN</td>\n",
       "      <td>Neha Kant</td>\n",
       "      <td>3.6</td>\n",
       "      <td>2123</td>\n",
       "      <td>58</td>\n",
       "      <td>NaN</td>\n",
       "      <td>NaN</td>\n",
       "      <td>NaN</td>\n",
       "    </tr>\n",
       "    <tr>\n",
       "      <th>3</th>\n",
       "      <td>SPWDWDT6NQDAHETZ</td>\n",
       "      <td>Triumph Shape 04 PLY Women's Shapewear</td>\n",
       "      <td>NaN</td>\n",
       "      <td>http://img.fkcdn.com/image/shapewear/e/t/z/401...</td>\n",
       "      <td>1899.0</td>\n",
       "      <td>1599.0</td>\n",
       "      <td>1599.0</td>\n",
       "      <td>http://dl.flipkart.com/dl/triumph-shape-04-ply...</td>\n",
       "      <td>Apparels&gt;Women&gt;Lingerie &amp; Sleepwear&gt;Shapewears</td>\n",
       "      <td>Triumph</td>\n",
       "      <td>...</td>\n",
       "      <td>Women's Shapewear;Checkered Pattern;Fabric: 20...</td>\n",
       "      <td>Women's Shapewear;Checkered Pattern;Fabric: 20...</td>\n",
       "      <td>NaN</td>\n",
       "      <td>Satvinder Singh</td>\n",
       "      <td>4.1</td>\n",
       "      <td>245590</td>\n",
       "      <td>2573</td>\n",
       "      <td>NaN</td>\n",
       "      <td>NaN</td>\n",
       "      <td>NaN</td>\n",
       "    </tr>\n",
       "    <tr>\n",
       "      <th>4</th>\n",
       "      <td>SPWE4FHG6HUMGBQH</td>\n",
       "      <td>Golden Girl Red Corset Women's Shapewear</td>\n",
       "      <td>NaN</td>\n",
       "      <td>http://img.fkcdn.com/image/shapewear/b/q/h/pan...</td>\n",
       "      <td>1399.0</td>\n",
       "      <td>475.0</td>\n",
       "      <td>475.0</td>\n",
       "      <td>http://dl.flipkart.com/dl/golden-girl-red-cors...</td>\n",
       "      <td>Apparels&gt;Women&gt;Lingerie &amp; Sleepwear&gt;Shapewears</td>\n",
       "      <td>Golden Girl</td>\n",
       "      <td>...</td>\n",
       "      <td>Type: Shapewear;Women's Shapewear;Solid Patter...</td>\n",
       "      <td>Type: Shapewear;Women's Shapewear;Solid Patter...</td>\n",
       "      <td>NaN</td>\n",
       "      <td>AMIT PRAKASH</td>\n",
       "      <td>3.9</td>\n",
       "      <td>379</td>\n",
       "      <td>10</td>\n",
       "      <td>Sleeveless</td>\n",
       "      <td>NaN</td>\n",
       "      <td>NaN</td>\n",
       "    </tr>\n",
       "  </tbody>\n",
       "</table>\n",
       "<p>5 rows × 32 columns</p>\n",
       "</div>"
      ],
      "text/plain": [
       "          productId                                     title description  \\\n",
       "0  SPWDS7UPDCMEG8WH                  Clovia Women's Shapewear         NaN   \n",
       "1  SPWDTSM9QHVDHTN6                  Clovia Women's Shapewear         NaN   \n",
       "2  SPWDTSMAGMHDNENJ                  Clovia Women's Shapewear         NaN   \n",
       "3  SPWDWDT6NQDAHETZ    Triumph Shape 04 PLY Women's Shapewear         NaN   \n",
       "4  SPWE4FHG6HUMGBQH  Golden Girl Red Corset Women's Shapewear         NaN   \n",
       "\n",
       "                                         imageUrlStr     mrp  sellingPrice  \\\n",
       "0  http://img.fkcdn.com/image/shapewear/8/w/h/sw0...  1199.0         959.0   \n",
       "1  http://img.fkcdn.com/image/shapewear/z/x/w/sw0...   999.0         649.0   \n",
       "2  http://img.fkcdn.com/image/shapewear/z/x/w/sw0...   999.0         649.0   \n",
       "3  http://img.fkcdn.com/image/shapewear/e/t/z/401...  1899.0        1599.0   \n",
       "4  http://img.fkcdn.com/image/shapewear/b/q/h/pan...  1399.0         475.0   \n",
       "\n",
       "   specialPrice                                         productUrl  \\\n",
       "0         959.0  http://dl.flipkart.com/dl/clovia-women-s-shape...   \n",
       "1         616.0  http://dl.flipkart.com/dl/clovia-women-s-shape...   \n",
       "2         616.0  http://dl.flipkart.com/dl/clovia-women-s-shape...   \n",
       "3        1599.0  http://dl.flipkart.com/dl/triumph-shape-04-ply...   \n",
       "4         475.0  http://dl.flipkart.com/dl/golden-girl-red-cors...   \n",
       "\n",
       "                                       categories productBrand   ...     \\\n",
       "0  Apparels>Women>Lingerie & Sleepwear>Shapewears       Clovia   ...      \n",
       "1  Apparels>Women>Lingerie & Sleepwear>Shapewears       Clovia   ...      \n",
       "2  Apparels>Women>Lingerie & Sleepwear>Shapewears       Clovia   ...      \n",
       "3  Apparels>Women>Lingerie & Sleepwear>Shapewears      Triumph   ...      \n",
       "4  Apparels>Women>Lingerie & Sleepwear>Shapewears  Golden Girl   ...      \n",
       "\n",
       "                                         keySpecsStr  \\\n",
       "0  Type: Shapewear;Women's Shapewear;Solid Patter...   \n",
       "1  Type: Thigh Slimmer;Women's Shapewear;Solid Pa...   \n",
       "2  Type: Thigh Slimmer;Women's Shapewear;Solid Pa...   \n",
       "3  Women's Shapewear;Checkered Pattern;Fabric: 20...   \n",
       "4  Type: Shapewear;Women's Shapewear;Solid Patter...   \n",
       "\n",
       "                                    detailedSpecsStr  specificationList  \\\n",
       "0  Type: Shapewear;Women's Shapewear;Solid Patter...                NaN   \n",
       "1  Type: Thigh Slimmer;Women's Shapewear;Solid Pa...                NaN   \n",
       "2  Type: Thigh Slimmer;Women's Shapewear;Solid Pa...                NaN   \n",
       "3  Women's Shapewear;Checkered Pattern;Fabric: 20...                NaN   \n",
       "4  Type: Shapewear;Women's Shapewear;Solid Patter...                NaN   \n",
       "\n",
       "        sellerName  sellerAverageRating  sellerNoOfRatings sellerNoOfReviews  \\\n",
       "0        Neha Kant                  3.6               2123                58   \n",
       "1        Neha Kant                  3.6               2123                58   \n",
       "2        Neha Kant                  3.6               2123                58   \n",
       "3  Satvinder Singh                  4.1             245590              2573   \n",
       "4     AMIT PRAKASH                  3.9                379                10   \n",
       "\n",
       "       sleeve neck idealFor  \n",
       "0         NaN  NaN      NaN  \n",
       "1         NaN  NaN      NaN  \n",
       "2         NaN  NaN      NaN  \n",
       "3         NaN  NaN      NaN  \n",
       "4  Sleeveless  NaN      NaN  \n",
       "\n",
       "[5 rows x 32 columns]"
      ]
     },
     "execution_count": 2,
     "metadata": {},
     "output_type": "execute_result"
    }
   ],
   "source": [
    "#Using Pandas to read data from csv file\n",
    "data = pd.read_csv('data.csv')\n",
    "data.head()"
   ]
  },
  {
   "cell_type": "code",
   "execution_count": 3,
   "metadata": {
    "hidden": true,
    "scrolled": true
   },
   "outputs": [
    {
     "name": "stdout",
     "output_type": "stream",
     "text": [
      "346927\n"
     ]
    }
   ],
   "source": [
    "#Filtering \"Tops\" data\n",
    "X = []\n",
    "for i in range (0,data.shape[0]):\n",
    "    if type(data.loc[i,'categories']) != float:\n",
    "        if data.loc[i,'categories'].find(\"Tops & Tunics>Tops\") != -1:\n",
    "            X.append(i)\n",
    "\n",
    "print(len(X))"
   ]
  },
  {
   "cell_type": "code",
   "execution_count": 4,
   "metadata": {
    "hidden": true
   },
   "outputs": [],
   "source": [
    "#Creating Training data , using 30000 images to train the autoencoder\n",
    "data_ = data.loc[X[:50000],:]\n",
    "#Creating Test data\n",
    "dev_data = data.loc[X[300001:],:]"
   ]
  },
  {
   "cell_type": "code",
   "execution_count": 5,
   "metadata": {
    "hidden": true
   },
   "outputs": [],
   "source": [
    "#Defining the custom dataset\n",
    "class DuplicateProductsDataset(Dataset):\n",
    "    def __init__(self,data):\n",
    "        self.data = data\n",
    "        #Transforming the image to PIL inorder to resize all the images to same size and then converting it to tensor inorder to  perform convolution operations\n",
    "        self.transformations = transforms.Compose([transforms.ToPILImage(),transforms.Resize((200,100)),transforms.ToTensor()])\n",
    "    \n",
    "    def __len__(self):\n",
    "        return(self.data.shape[0])\n",
    "    \n",
    "    def __getitem__(self,idx):\n",
    "        #Getting image from the URL and preprocessing\n",
    "        img_url = self.data.loc[X[idx],'imageUrlStr']\n",
    "        i = img_url.find(';')\n",
    "        j = img_url[i+1:].find(';')\n",
    "        img_url = img_url[i+1:i+j+1]\n",
    "        try:\n",
    "            img = io.imread(img_url)\n",
    "            img = self.transformations(img)\n",
    "            return(img)\n",
    "        except: \n",
    "            #Handling the HTTPError\n",
    "            print('HttPError encountered while retrieving image')"
   ]
  },
  {
   "cell_type": "code",
   "execution_count": 6,
   "metadata": {
    "hidden": true
   },
   "outputs": [],
   "source": [
    "#Initializing dataset object\n",
    "custom_dataset = DuplicateProductsDataset(data_)\n",
    "\n",
    "batch_size = 128                                                                      \n",
    "\n",
    "def my_collate(batch):\n",
    "    batch = list(filter(lambda x:x is not None, batch))\n",
    "    return torch.utils.data.dataloader.default_collate(batch)\n",
    "\n",
    "#Initializing dataloader object\n",
    "dataset_loader = torch.utils.data.DataLoader(dataset=custom_dataset,\n",
    "                                                    batch_size=batch_size,\n",
    "                                                    shuffle=True,collate_fn= my_collate)"
   ]
  },
  {
   "cell_type": "markdown",
   "metadata": {
    "heading_collapsed": true
   },
   "source": [
    "# AutoEncoder"
   ]
  },
  {
   "cell_type": "code",
   "execution_count": 7,
   "metadata": {
    "hidden": true
   },
   "outputs": [],
   "source": [
    "#Defining the autoencoder module\n",
    "class Autoencoder(nn.Module):\n",
    "    def __init__(self):\n",
    "        super(Autoencoder,self).__init__()\n",
    "        self.en_cnn1 = nn.Conv2d(3, 6, kernel_size=5)\n",
    "        self.en_cnn2 = nn.Conv2d(6,16,kernel_size=5)\n",
    "        self.max_pool = nn.MaxPool2d(4,return_indices = True)\n",
    "        self.dec_cnn1 = nn.ConvTranspose2d(16,6,kernel_size=5)\n",
    "        self.max_unpool= nn.MaxUnpool2d(4)\n",
    "        self.dec_cnn2 = nn.ConvTranspose2d(6,3,kernel_size=5)\n",
    "        self.en_linear1 = nn.Linear(16*48*23,1024)\n",
    "        self.dec_linear1 = nn.Linear(1024,16*48*23)\n",
    "        self.en_linear2 = nn.Linear(1024,256)\n",
    "        self.dec_linear2 = nn.Linear(256,1024)\n",
    "        \n",
    "    \n",
    "    \n",
    "    ## Using Conv2d->Conv2d->MaxPool->Linear->Linear for encoding the images in to a 256 bit vector\n",
    "    def encoder(self,x):\n",
    "        code = F.relu(self.en_cnn1(x))\n",
    "        code = F.relu(self.en_cnn2(code))\n",
    "        code,i2 = self.max_pool(code)\n",
    "        code = code.view(-1,16*48*23)\n",
    "        code = self.en_linear1(code)\n",
    "        code = self.en_linear2(code)\n",
    "        return code,i2\n",
    "\n",
    "    #Using Linear->Linear->MaxUnpool->ConvTranspose2d->ConvTranspose2d for generating images from the encodings(Latent Space/Bottleneck)\n",
    "    def decoder(self,x,i2):\n",
    "        code = self.dec_linear2(x)\n",
    "        code = self.dec_linear1(code)\n",
    "        code = code.view(-1,16,48,23)\n",
    "        code = self.max_unpool(code,i2)\n",
    "        code = F.relu(self.dec_cnn1(code))\n",
    "        code = F.relu(self.dec_cnn2(code))\n",
    "        return code\n",
    "        \n",
    "            \n",
    "            \n",
    "        \n",
    "    def forward(self,x):\n",
    "        x,i2 = self.encoder(x)\n",
    "        x = self.decoder(x,i2)\n",
    "        return x"
   ]
  },
  {
   "cell_type": "markdown",
   "metadata": {
    "hidden": true
   },
   "source": [
    "## Training of autoencoder \n",
    "\n",
    "An already trained model is saved in the \"saved_model\" file. Uncomment following cell to load that model"
   ]
  },
  {
   "cell_type": "code",
   "execution_count": 8,
   "metadata": {
    "hidden": true
   },
   "outputs": [],
   "source": [
    "#autoencoder = torch.load(\"saved_model\")"
   ]
  },
  {
   "cell_type": "code",
   "execution_count": 9,
   "metadata": {
    "hidden": true
   },
   "outputs": [],
   "source": [
    "num_epochs = 3                                                           #Number of iterations of entire training set\n",
    "distance = nn.MSELoss()                                                  #Using mean squared error loss to compare original and decoded images\n",
    "autoencoder = Autoencoder().cuda()                                       #Creating an object of Autoencoder class\n",
    "optimizer = torch.optim.Adam(autoencoder.parameters(),weight_decay=1e-5) #Using Adam optimizer for optimization and added weight_decay for L2 regularization"
   ]
  },
  {
   "cell_type": "code",
   "execution_count": null,
   "metadata": {
    "hidden": true
   },
   "outputs": [],
   "source": [
    "#Train the autoencoder model\n",
    "for epoch in range(num_epochs):\n",
    "    for dat in dataset_loader:\n",
    "        print(i)\n",
    "        i = i+1\n",
    "        img = dat\n",
    "        img = Variable(img).cuda()\n",
    "        # ===================forward=====================\n",
    "        output = autoencoder(img)\n",
    "        loss = distance(output,img)\n",
    "        # ===================backward====================\n",
    "        optimizer.zero_grad()\n",
    "        loss.backward()\n",
    "        optimizer.step()\n",
    "    # ===================log========================\n",
    "    print('epoch [{}/{}], loss:{:.4f}'.format(epoch+1, num_epochs, loss))"
   ]
  },
  {
   "cell_type": "markdown",
   "metadata": {
    "hidden": true
   },
   "source": [
    "Uncomment the following code if you freshly trained the model and wish to save it"
   ]
  },
  {
   "cell_type": "code",
   "execution_count": null,
   "metadata": {
    "hidden": true
   },
   "outputs": [],
   "source": [
    "#Uncomment inorder to save a freshly trained model\n",
    "#torch.save(autoencoder,\"saved_model\")"
   ]
  },
  {
   "cell_type": "markdown",
   "metadata": {},
   "source": [
    "# KMeans Clustering "
   ]
  },
  {
   "cell_type": "code",
   "execution_count": null,
   "metadata": {
    "scrolled": true
   },
   "outputs": [],
   "source": [
    "#Creating a custom dataset for training the KMeans Clustering\n",
    "kmeans_dataset = DuplicateProductsDataset(data.loc[X[0:10000],:])\n",
    "\n",
    "#Creating encodings for all the images\n",
    "myArray = []\n",
    "for i in range(0,10000):\n",
    "    print(i)\n",
    "    try:\n",
    "        img = kmeans_dataset.__getitem__(i)\n",
    "        img.unsqueeze_(0)\n",
    "        img_code,_ = autoencoder.encoder(Variable(img).cuda())\n",
    "        img_code = img_code.cpu()\n",
    "        img_code = img_code.detach().numpy()\n",
    "        myArray.append(img_code)\n",
    "    except:\n",
    "        print(\"HttpError\")\n"
   ]
  },
  {
   "cell_type": "code",
   "execution_count": 9,
   "metadata": {},
   "outputs": [],
   "source": [
    "#Uncomment inorder to save the encodings array\n",
    "# np.save(\"Encodings\",myArray)\n",
    "\n",
    "#Uncomment inorder to load the saved encodings array\n",
    "#myArray = np.load(\"Encodings.npy\")"
   ]
  },
  {
   "cell_type": "code",
   "execution_count": 10,
   "metadata": {},
   "outputs": [],
   "source": [
    "#Using sklearn.cluster.KMeans to perform KMeans clustering on image encodings\n",
    "\n",
    "from sklearn.cluster import KMeans\n",
    "\n",
    "myArray = np.squeeze(myArray,1)\n",
    "\n",
    "kmeans = KMeans(n_clusters=200, random_state=0).fit(myArray)"
   ]
  },
  {
   "cell_type": "code",
   "execution_count": null,
   "metadata": {
    "scrolled": true
   },
   "outputs": [],
   "source": [
    "#Assingning clusters to all the tops\n",
    "Tops_data = data.loc[X[:10000],:]\n",
    "\n",
    "#Adding a new column for Cluster\n",
    "Tops_data['Cluster'] = -1       \n",
    "\n",
    "Total_Dataset = DuplicateProductsDataset(Tops_data)\n",
    "\n",
    "for i in range(0,Tops_data.shape[0]):\n",
    "    print(i)\n",
    "    try:\n",
    "        img = Total_Dataset.__getitem__(i)\n",
    "        img.unsqueeze_(0)\n",
    "        img_code,_ = autoencoder.encoder(Variable(img).cuda())        #Generating Encodings for images\n",
    "        img_code = img_code.cpu()\n",
    "        img_code = img_code.detach().numpy()                          #Converting torch.tensor to numpy.ndarray\n",
    "        img_code= np.squeeze(img_code,0)\n",
    "        cluster = kmeans.predict([img_code])                          #Predicting the cluster for a given product\n",
    "        Tops_data.at[X[i],'Cluster'] = cluster[0]\n",
    "    except:\n",
    "        print(\"HttpError\")\n",
    "\n",
    "Tops_data.head()\n",
    "Tops_data_sorted = Tops_data.sort_values('Cluster',ascending = 1)"
   ]
  },
  {
   "cell_type": "code",
   "execution_count": 13,
   "metadata": {},
   "outputs": [
    {
     "data": {
      "text/plain": [
       "(10000, 33)"
      ]
     },
     "execution_count": 13,
     "metadata": {},
     "output_type": "execute_result"
    }
   ],
   "source": [
    "Tops_data.head()\n",
    "Tops_data.shape\n",
    "\n",
    "#Uncomment the following code to save the Tops dataframe along with their clusters\n",
    "#Tops_data.to_pickle('Tops_data.pkl')"
   ]
  },
  {
   "cell_type": "code",
   "execution_count": 11,
   "metadata": {},
   "outputs": [],
   "source": [
    "#Uncomment the following code to load the saved Tops data along with their clusters\n",
    "#Tops_data = pd.read_pickle('Tops_data.pkl')"
   ]
  },
  {
   "cell_type": "markdown",
   "metadata": {},
   "source": [
    "# Comparisons among products to identify duplicates"
   ]
  },
  {
   "cell_type": "code",
   "execution_count": 12,
   "metadata": {},
   "outputs": [],
   "source": [
    "dict_duplicates = {}"
   ]
  },
  {
   "cell_type": "code",
   "execution_count": null,
   "metadata": {},
   "outputs": [],
   "source": [
    "for i in range(0,10000):\n",
    "    cluster = Tops_data.loc[X[i],'Cluster']\n",
    "    for j in range(0,10000):\n",
    "        if i==j:\n",
    "            continue\n",
    "        \n",
    "        if Tops_data.loc[X[j],'Cluster'] != cluster:\n",
    "            continue\n",
    "        try:    \n",
    "            img = Total_dataset.__getitem__(i)\n",
    "            img.unsqueeze_(0)\n",
    "            img_code,_ = autoencoder.encoder(Variable(img).cuda())\n",
    "            img_code = img_code.cpu()\n",
    "            img_code = img_code.detach().numpy()\n",
    "\n",
    "            img_ = Total_dataset.__getitem__(j)\n",
    "            img_.unsqueeze_(0)\n",
    "            img_code_,_ = autoencoder.encoder(Variable(img_).cuda())\n",
    "            img_code_ = img_code_.cpu()\n",
    "            img_code_ = img_code_.detach().numpy()\n",
    "\n",
    "            diff = np.linalg.norm(img-img_)\n",
    "            print(i)\n",
    "            print(j)\n",
    "            print(diff)\n",
    "\n",
    "            if(diff == 0):\n",
    "                key = Tops_data.loc[X[i],'productId']\n",
    "                value = Tops_data.loc[X[j],'productId']\n",
    "                dict_duplicates.setdefault(key, []).append(value)\n",
    "        \n",
    "        except:\n",
    "            continue\n",
    "        "
   ]
  },
  {
   "cell_type": "code",
   "execution_count": 36,
   "metadata": {},
   "outputs": [],
   "source": [
    "import json\n",
    "with open(\"file1.json\", \"wb\") as f:\n",
    "    f.write(json.dumps(dict_duplicates).encode(\"utf-8\"))"
   ]
  },
  {
   "cell_type": "code",
   "execution_count": 28,
   "metadata": {},
   "outputs": [
    {
     "name": "stdout",
     "output_type": "stream",
     "text": [
      "{'TOPE9ABBZU3HZRHN': ['TOPE9ABBBTJYDSQE'], 'TOPE9ABBBTJYDSQE': ['TOPE9ABBZU3HZRHN'], 'TOPE6ZCYHTJEMZMW': ['TOPE7GUGYEG7JKHJ', 'TOPE7GUGPZSJCHHX', 'TOPE7GUGY65MGPGJ'], 'TOPE6XZPXBP5APH9': ['TOPE6XZPRUAFWPBH'], 'TOPE6XZPRUAFWPBH': ['TOPE6XZPXBP5APH9'], 'TOPE7CD4ETPFHCDX': ['TOPE7CD4FZXYEY2F'], 'TOPE7CD4FZXYEY2F': ['TOPE7CD4ETPFHCDX'], 'TOPE8M6R2XZCZG8Z': ['TOPE8M6RMN7SBFVG'], 'TOPE8M6RMN7SBFVG': ['TOPE8M6R2XZCZG8Z'], 'TOPE7G33BKEXZZHT': ['TOPE7U8MTATAGP5P', 'TOPE7U8MSDMAP6FE', 'TOPE7U8MW5DPK2MV', 'TOPE7U8MDZ2MCHXH'], 'TOPEF2HAJZ5PAXY6': ['TOPEF2HA7XH6TEEZ'], 'TOPEF2HA7XH6TEEZ': ['TOPEF2HAJZ5PAXY6'], 'TOPE7U8MFBZXJZQX': ['TOPE7U8MEDJHMJDT'], 'TOPE7U8MEDJHMJDT': ['TOPE7U8MFBZXJZQX'], 'TOPE6KWBB7GFT8ET': ['TOPE6KWB7QASBYVW'], 'TOPE6KWB7QASBYVW': ['TOPE6KWBB7GFT8ET'], 'TOPE6T9FGHWGTSB8': ['TOPE6T9FCG4FQGTC', 'TOPE6T9FCG4QYSVZ'], 'TOPE6T9FCG4FQGTC': ['TOPE6T9FGHWGTSB8', 'TOPE6T9FCG4QYSVZ'], 'TOPE7G334D9WRSGP': ['TOPE7U8MN9PXFVG9', 'TOPE7U8M8DWXG8NY'], 'TOPE7U8MZFBHRHHP': ['TOPE7U8MGBCRV7QG', 'TOPE7U8MYVRRTMSU', 'TOPE7U8MVFCJB6Z3'], 'TOPE7U8MGBCRV7QG': ['TOPE7U8MZFBHRHHP', 'TOPE7U8MYVRRTMSU', 'TOPE7U8MVFCJB6Z3'], 'TOPE7U8MYVRRTMSU': ['TOPE7U8MZFBHRHHP', 'TOPE7U8MGBCRV7QG', 'TOPE7U8MVFCJB6Z3'], 'TOPE7U8MVFCJB6Z3': ['TOPE7U8MZFBHRHHP', 'TOPE7U8MGBCRV7QG', 'TOPE7U8MYVRRTMSU'], 'TOPE7U8MGRG59CZQ': ['TOPE7U8MNN6TVTAE', 'TOPE7U8MNPG6H55A'], 'TOPE6ZCKD9APZWXF': ['TOPE6ZCKPPPAR7GF', 'TOPE6ZCKZSURA2HU'], 'TOPE6ZCKPPPAR7GF': ['TOPE6ZCKD9APZWXF', 'TOPE6ZCKZSURA2HU'], 'TOPE6ZCKZSURA2HU': ['TOPE6ZCKD9APZWXF', 'TOPE6ZCKPPPAR7GF'], 'TOPE7U8MTATAGP5P': ['TOPE7G33BKEXZZHT', 'TOPE7U8MSDMAP6FE', 'TOPE7U8MW5DPK2MV', 'TOPE7U8MDZ2MCHXH'], 'TOPE7U8MSDMAP6FE': ['TOPE7G33BKEXZZHT', 'TOPE7U8MTATAGP5P', 'TOPE7U8MW5DPK2MV', 'TOPE7U8MDZ2MCHXH'], 'TOPE7U8MN9PXFVG9': ['TOPE7G334D9WRSGP', 'TOPE7U8M8DWXG8NY'], 'TOPE7U8M8DWXG8NY': ['TOPE7G334D9WRSGP', 'TOPE7U8MN9PXFVG9'], 'TOPE7GUGYEG7JKHJ': ['TOPE6ZCYHTJEMZMW', 'TOPE7GUGPZSJCHHX', 'TOPE7GUGY65MGPGJ'], 'TOPE7GUGPZSJCHHX': ['TOPE6ZCYHTJEMZMW', 'TOPE7GUGYEG7JKHJ', 'TOPE7GUGY65MGPGJ'], 'TOPE7GUGY65MGPGJ': ['TOPE6ZCYHTJEMZMW', 'TOPE7GUGYEG7JKHJ', 'TOPE7GUGPZSJCHHX'], 'TOPE5K6B7JKVT2XJ': ['TOPE5K6BAUP9BRCQ'], 'TOPE5K6BAUP9BRCQ': ['TOPE5K6B7JKVT2XJ'], 'TOPE5K6BHB8ZJXMH': ['TOPE5K6BMMG5YJJJ'], 'TOPE5K6BMMG5YJJJ': ['TOPE5K6BHB8ZJXMH'], 'TOPE6P4H9EEZEX3N': ['TOPE6P4HZGHSUWWN'], 'TOPE6P4HZGHSUWWN': ['TOPE6P4H9EEZEX3N'], 'TOPDY2PBFRHEC8VR': ['TOPDY2PB5GW7SVZU', 'TOPDY2PBVJRDNTDC'], 'TOPDY2PB5GW7SVZU': ['TOPDY2PBFRHEC8VR', 'TOPDY2PBVJRDNTDC'], 'TOPE7CKNXYAEJUUM': ['TOPE7CKNEHPSXBHX'], 'TOPE7CKNEHPSXBHX': ['TOPE7CKNXYAEJUUM'], 'TOPE7XCGTEBUZSHS': ['TOPE7XCGF2FZVYSB'], 'TOPE7XCGF2FZVYSB': ['TOPE7XCGTEBUZSHS'], 'TOPE8EXFDZWET454': ['TOPE8EXFFPGVDHFM'], 'TOPE8EXFFPGVDHFM': ['TOPE8EXFDZWET454'], 'TOPE6SDMFTQWVQ2N': ['TOPE6SDMCDDVQPFK'], 'TOPE7KBHQDFJADWT': ['TOPE7KBHD5GXVTXH'], 'TOPE7KBHD5GXVTXH': ['TOPE7KBHQDFJADWT'], 'TOPE8N22G4B4NER4': ['TOPE8N22KZUHR6YG'], 'TOPE8N22KZUHR6YG': ['TOPE8N22G4B4NER4'], 'TOPE8HQPTAYV7BCG': ['TOPE8HQPW42CXGZY'], 'TOPE8HQPW42CXGZY': ['TOPE8HQPTAYV7BCG'], 'TOPE7XCGVYDA4HPE': ['TOPE7XCG6RKAFVMX'], 'TOPEF2HAP4CMCYQ3': ['TOPEF2HAFGTWRDPD'], 'TOPEF2HAFGTWRDPD': ['TOPEF2HAP4CMCYQ3'], 'TOPE8ZAFQ9QMYJFT': ['TOPE8ZAFM7DTTZPT'], 'TOPE8ZAFM7DTTZPT': ['TOPE8ZAFQ9QMYJFT'], 'TOPE8M9QSFYQRXZG': ['TOPE8M9QVJ39ZZMX'], 'TOPE8M9QVJ39ZZMX': ['TOPE8M9QSFYQRXZG'], 'TOPE7XMMF3RDJBZ8': ['TOPE7XMMMUDDRFXU'], 'TOPE7XMMMUDDRFXU': ['TOPE7XMMF3RDJBZ8'], 'TOPE7XCGQ77PQ3VF': ['TOPE7XCGRGBYH2TH'], 'TOPE7XCGRGBYH2TH': ['TOPE7XCGQ77PQ3VF'], 'TOPE7XHG9H3SMWFD': ['TOPE7XHG3J7K7GZG'], 'TOPE7XMM7AJCF9WF': ['TOPE7XMMJKHDUZ8P', 'TOPE7XMMVF43YWN4'], 'TOPE7XHG3J7K7GZG': ['TOPE7XHG9H3SMWFD'], 'TOPE7XMMJKHDUZ8P': ['TOPE7XMM7AJCF9WF', 'TOPE7XMMVF43YWN4'], 'TOPE7XMMVF43YWN4': ['TOPE7XMM7AJCF9WF', 'TOPE7XMMJKHDUZ8P'], 'TOPE7XHJPJ4HMBEF': ['TOPE7XHGHX6GPPWG', 'TOPE7XHJXKWZ3VDG', 'TOPE7XHJPZHVGQH5'], 'TOPE7XHGHX6GPPWG': ['TOPE7XHJPJ4HMBEF', 'TOPE7XHJXKWZ3VDG', 'TOPE7XHJPZHVGQH5'], 'TOPE7XHJXKWZ3VDG': ['TOPE7XHJPJ4HMBEF', 'TOPE7XHGHX6GPPWG', 'TOPE7XHJPZHVGQH5'], 'TOPE7XHJPZHVGQH5': ['TOPE7XHJPJ4HMBEF', 'TOPE7XHGHX6GPPWG', 'TOPE7XHJXKWZ3VDG'], 'TOPE7XMMDFTJJQBC': ['TOPE7XMMNYGHRKMZ'], 'TOPE7XHGZZTFBFKN': ['TOPE7XHGSYQQJYBJ'], 'TOPE7XHGSYQQJYBJ': ['TOPE7XHGZZTFBFKN'], 'TOPE7XMMNYGHRKMZ': ['TOPE7XMMDFTJJQBC'], 'TOPE6TCA83Z3AKJU': ['TOPE6TCAHFQN6UNG'], 'TOPE8ZHJFYHBPBNH': ['TOPE8ZHJYVFEHZAJ', 'TOPE8ZHJJW66WKUC'], 'TOPE8ZEZMFCGAHHM': ['TOPE8ZEZSTKAAHJF'], 'TOPE8ZEZSTKAAHJF': ['TOPE8ZEZMFCGAHHM'], 'TOPE89GM4KNH3T4G': ['TOPE89GMMHAD8YSD', 'TOPE89GMPQNAXFFZ'], 'TOPE89GMMHAD8YSD': ['TOPE89GM4KNH3T4G', 'TOPE89GMPQNAXFFZ'], 'TOPE89GMPQNAXFFZ': ['TOPE89GM4KNH3T4G', 'TOPE89GMMHAD8YSD'], 'TOPE3WSTJNGYNB7J': ['TOPE3WST4QQKKFKB', 'TOPE3WST2J9CDPJA'], 'TOPE3WST4QQKKFKB': ['TOPE3WSTJNGYNB7J', 'TOPE3WST2J9CDPJA'], 'TOPE3WST2J9CDPJA': ['TOPE3WSTJNGYNB7J', 'TOPE3WST4QQKKFKB'], 'TOPE73V5EBQUUZS9': ['TOPE73V554NUNZHR'], 'TOPE6KWBFAARWGHG': ['TOPE6KWBD86VKUMV'], 'TOPE83AFHHZYG9RN': ['TOPE83AFRQ5YZDFY', 'TOPE83AFGTSV62BV', 'TOPE83AFVW2HZ9GY'], 'TOPE83AFRQ5YZDFY': ['TOPE83AFHHZYG9RN', 'TOPE83AFGTSV62BV', 'TOPE83AFVW2HZ9GY'], 'TOPE83AFGTSV62BV': ['TOPE83AFHHZYG9RN', 'TOPE83AFRQ5YZDFY', 'TOPE83AFVW2HZ9GY'], 'TOPE6TCAZ2RYNDYG': ['TOPE6TCAPJTUF88C'], 'TOPE6TCAPJTUF88C': ['TOPE6TCAZ2RYNDYG'], 'TOPE6TCATEKRVWGF': ['TOPE6TCAZ23MFBES'], 'TOPE6SDMHNKV7YC9': ['TOPE6SDM89JSNZP3', 'TOPE6SDM4HJHHVG2', 'TOPE6SDMDGHVR2XP', 'TOPE6SDMVZR5TPQH'], 'TOPE6SDM89JSNZP3': ['TOPE6SDMHNKV7YC9', 'TOPE6SDM4HJHHVG2', 'TOPE6SDMDGHVR2XP', 'TOPE6SDMVZR5TPQH'], 'TOPE83AFCVDTVA7T': ['TOPE83AFCPGTYJWJ'], 'TOPE6SDM4HJHHVG2': ['TOPE6SDMHNKV7YC9', 'TOPE6SDM89JSNZP3', 'TOPE6SDMDGHVR2XP', 'TOPE6SDMVZR5TPQH'], 'TOPE986YYZMYEJQP': ['TOPE986YGFW7JTFN'], 'TOPE986YEU9Z6TN5': ['TOPE986YUDZ3NKBY'], 'TOPE986YUDZ3NKBY': ['TOPE986YEU9Z6TN5'], 'TOPE986YGFW7JTFN': ['TOPE986YYZMYEJQP'], 'TOPE986YVZC4EZCZ': ['TOPE986YMSK8FEDS', 'TOPE986YTQF4VSC6', 'TOPE986YGAWFSTWU', 'TOPE986YFSGHCU8A'], 'TOPE986YMSK8FEDS': ['TOPE986YVZC4EZCZ', 'TOPE986YTQF4VSC6', 'TOPE986YGAWFSTWU', 'TOPE986YFSGHCU8A'], 'TOPE986YTQF4VSC6': ['TOPE986YVZC4EZCZ', 'TOPE986YMSK8FEDS', 'TOPE986YGAWFSTWU', 'TOPE986YFSGHCU8A'], 'TOPE73V5HTEDKPAP': ['TOPE73V5PBDPSRA4', 'TOPE73V5BCZNXDCR', 'TOPE73V5CR8DJVGY', 'TOPE73V5VJF3QQKP'], 'TOPE73V5PBDPSRA4': ['TOPE73V5HTEDKPAP', 'TOPE73V5BCZNXDCR', 'TOPE73V5CR8DJVGY', 'TOPE73V5VJF3QQKP'], 'TOPE83AFJQK2XRSH': ['TOPE83AFNNSMWYHT', 'TOPE83AFJBFDMRMB', 'TOPE83AFYHHVZF35'], 'TOPE83AFNNSMWYHT': ['TOPE83AFJQK2XRSH', 'TOPE83AFJBFDMRMB', 'TOPE83AFYHHVZF35'], 'TOPE73V5FGVY6H5E': ['TOPE73V5AWYY3GTF', 'TOPE73V5ZJVFQFGN'], 'TOPE73V5AWYY3GTF': ['TOPE73V5FGVY6H5E', 'TOPE73V5ZJVFQFGN'], 'TOPEYW3NT4RDHGMK': ['TOPEYW3ZXVGSKHVW'], 'TOPE8YAUMTFX2RWC': ['TOPE8YAUQ3JPR6K2'], 'TOPE8YAUQ3JPR6K2': ['TOPE8YAUMTFX2RWC'], 'TOPE7U8MRGVTVX52': ['TOPE7U8NBNS3PHN9', 'TOPE7U8NFNMXGZMN', 'TOPE7U8NGAHQGGVE', 'TOPE7U8NB9DYEFZN', 'TOPE7U8NNCFYHXRQ'], 'TOPE7U8NBNS3PHN9': ['TOPE7U8MRGVTVX52', 'TOPE7U8NFNMXGZMN', 'TOPE7U8NGAHQGGVE', 'TOPE7U8NB9DYEFZN', 'TOPE7U8NNCFYHXRQ'], 'TOPE6SDME2TSB7TM': ['TOPE6SDNFPJUHYG9'], 'TOPE7U8NFNMXGZMN': ['TOPE7U8MRGVTVX52', 'TOPE7U8NBNS3PHN9', 'TOPE7U8NGAHQGGVE', 'TOPE7U8NB9DYEFZN', 'TOPE7U8NNCFYHXRQ'], 'TOPE7U8NGAHQGGVE': ['TOPE7U8MRGVTVX52', 'TOPE7U8NBNS3PHN9', 'TOPE7U8NFNMXGZMN', 'TOPE7U8NB9DYEFZN', 'TOPE7U8NNCFYHXRQ'], 'TOPE7U8NB9DYEFZN': ['TOPE7U8MRGVTVX52', 'TOPE7U8NBNS3PHN9', 'TOPE7U8NFNMXGZMN', 'TOPE7U8NGAHQGGVE', 'TOPE7U8NNCFYHXRQ'], 'TOPE7U8NNCFYHXRQ': ['TOPE7U8MRGVTVX52', 'TOPE7U8NBNS3PHN9', 'TOPE7U8NFNMXGZMN', 'TOPE7U8NGAHQGGVE', 'TOPE7U8NB9DYEFZN'], 'TOPE7U8MJFZRZKSW': ['TOPE7U8MC9HCVEDW', 'TOPE7U8MDAVGYSTD'], 'TOPE7U8MC9HCVEDW': ['TOPE7U8MJFZRZKSW', 'TOPE7U8MDAVGYSTD'], 'TOPE7U8MDAVGYSTD': ['TOPE7U8MJFZRZKSW', 'TOPE7U8MC9HCVEDW'], 'TOPE83AFTPRKMUUY': ['TOPE83AFGJZCHQK9'], 'TOPE83AFGJZCHQK9': ['TOPE83AFTPRKMUUY'], 'TOPE73V5D6BRFSAP': ['TOPE73V5HC5CGP5P'], 'TOPE8YAU47SDXFED': ['TOPE8YAUGSAPYUYQ'], 'TOPE8YAUGSAPYUYQ': ['TOPE8YAU47SDXFED'], 'TOPE73V5QBHDYYDZ': ['TOPE73V5YRJHCGJH'], 'TOPE73V5YRJHCGJH': ['TOPE73V5QBHDYYDZ'], 'TOPE2FJ8JSHZWUHC': ['TOPE2FJ8QN8MV2ZQ'], 'TOPE8SEUM9G7RYP9': ['TOPE8SEU8QPCWDHY', 'TOPE8SEUQJ3FM5BF'], 'TOPE8SEU8QPCWDHY': ['TOPE8SEUM9G7RYP9', 'TOPE8SEUQJ3FM5BF'], 'TOPE7T5F9W8ZPV2H': ['TOPE7T5FFFXGEV2H'], 'TOPE7T5FFFXGEV2H': ['TOPE7T5F9W8ZPV2H'], 'TOPE6TCAG2HGTHMU': ['TOPE6TCAFNZ3QYMR', 'TOPE6TCAHCEFGNBB'], 'TOPE83AFUHDXTDZB': ['TOPE83AFHTAH7KH3'], 'TOPE8R7JFVQUAZNT': ['TOPE8R7JZ3MV6FY4'], 'TOPE8R7JZ3MV6FY4': ['TOPE8R7JFVQUAZNT'], 'TOPDY2PBVJRDNTDC': ['TOPDY2PBFRHEC8VR', 'TOPDY2PB5GW7SVZU'], 'TOPE8ZHJYVFEHZAJ': ['TOPE8ZHJFYHBPBNH', 'TOPE8ZHJJW66WKUC'], 'TOPE6TCAZ23MFBES': ['TOPE6TCATEKRVWGF'], 'TOPE73V5HC5CGP5P': ['TOPE73V5D6BRFSAP'], 'TOPE83AFK7WKBVQ5': ['TOPE83AFNDQX8Q5D', 'TOPE83AFDDNXUYVT'], 'TOPE83AFHTAH7KH3': ['TOPE83AFUHDXTDZB'], 'TOPE6SDMCDDVQPFK': ['TOPE6SDMFTQWVQ2N'], 'TOPE83AFVW2HZ9GY': ['TOPE83AFHHZYG9RN', 'TOPE83AFRQ5YZDFY', 'TOPE83AFGTSV62BV'], 'TOPE73V5BCZNXDCR': ['TOPE73V5HTEDKPAP', 'TOPE73V5PBDPSRA4', 'TOPE73V5CR8DJVGY', 'TOPE73V5VJF3QQKP'], 'TOPE73V554NUNZHR': ['TOPE73V5EBQUUZS9'], 'TOPE6ZCYRXFCDCDG': ['TOPE6ZCY38N8PZMH', 'TOPE6ZCYFRYUMSFJ'], 'TOPE6ZCYVFPENRGW': ['TOPE6ZCY57VEAP9Z', 'TOPE6ZCYPQKFHMZG'], 'TOPE6ZCY57VEAP9Z': ['TOPE6ZCYVFPENRGW', 'TOPE6ZCYPQKFHMZG'], 'TOPE6ZCYPQKFHMZG': ['TOPE6ZCYVFPENRGW', 'TOPE6ZCY57VEAP9Z'], 'TOPE8N74VJSYTTZB': ['TOPE8N74NCFT6FDH'], 'TOPE8N74NCFT6FDH': ['TOPE8N74VJSYTTZB'], 'TOPE6ZCY38N8PZMH': ['TOPE6ZCYRXFCDCDG', 'TOPE6ZCYFRYUMSFJ'], 'TOPE6ZCYFRYUMSFJ': ['TOPE6ZCYRXFCDCDG', 'TOPE6ZCY38N8PZMH'], 'TOPE73V5CR8DJVGY': ['TOPE73V5HTEDKPAP', 'TOPE73V5PBDPSRA4', 'TOPE73V5BCZNXDCR', 'TOPE73V5VJF3QQKP'], 'TOPE73V5KRZYX6EF': ['TOPE73V5RZZWJWAE'], 'TOPE83AFJBFDMRMB': ['TOPE83AFJQK2XRSH', 'TOPE83AFNNSMWYHT', 'TOPE83AFYHHVZF35'], 'TOPE8UQ6TE6GP6T7': ['TOPE8UQ6ZGHCFHYJ'], 'TOPE8UQ6ZGHCFHYJ': ['TOPE8UQ6TE6GP6T7'], 'TOPE83AFNDQX8Q5D': ['TOPE83AFK7WKBVQ5', 'TOPE83AFDDNXUYVT'], 'TOPE6T9FCG4QYSVZ': ['TOPE6T9FGHWGTSB8', 'TOPE6T9FCG4FQGTC'], 'TOPE73V5ZJVFQFGN': ['TOPE73V5FGVY6H5E', 'TOPE73V5AWYY3GTF'], 'TOPE6TCAFNZ3QYMR': ['TOPE6TCAG2HGTHMU', 'TOPE6TCAHCEFGNBB'], 'TOPE2FJ8QN8MV2ZQ': ['TOPE2FJ8JSHZWUHC'], 'TOPE6VTGGKMYPEXY': ['TOPE6VTG4ZW6JBUQ'], 'TOPE6VTG4ZW6JBUQ': ['TOPE6VTGGKMYPEXY'], 'TOPE6SDMDGHVR2XP': ['TOPE6SDMHNKV7YC9', 'TOPE6SDM89JSNZP3', 'TOPE6SDM4HJHHVG2', 'TOPE6SDMVZR5TPQH'], 'TOPE83AFCPGTYJWJ': ['TOPE83AFCVDTVA7T'], 'TOPE986YGAWFSTWU': ['TOPE986YVZC4EZCZ', 'TOPE986YMSK8FEDS', 'TOPE986YTQF4VSC6', 'TOPE986YFSGHCU8A'], 'TOPE986YFSGHCU8A': ['TOPE986YVZC4EZCZ', 'TOPE986YMSK8FEDS', 'TOPE986YTQF4VSC6', 'TOPE986YGAWFSTWU'], 'TOPE73V5RZZWJWAE': ['TOPE73V5KRZYX6EF'], 'TOPE6H7KCBNUFWGA': ['TOPE6H7K8ZBNBZGJ'], 'TOPE8YNSHTGFSBZH': ['TOPE8YNS7AD2MYTH'], 'TOPE45X223RCVZZF': ['TOPE45X2S8ARHZH3'], 'TOPE96SYGBMT2NYQ': ['TOPE96SYAH6XVWZH'], 'TOPDYTSGPNACZ92P': ['TOPDYTSGZKRWPAYW', 'TOPDYTSGCVTDKZVV'], 'TOPE6VTQHBZRB6GZ': ['TOPE6VTQWXG4YPGJ', 'TOPE6VTQHJGUQ63C'], 'TOPE8YNS7AD2MYTH': ['TOPE8YNSHTGFSBZH'], 'TOPE96SYAH6XVWZH': ['TOPE96SYGBMT2NYQ'], 'TOPDYTSGZKRWPAYW': ['TOPDYTSGPNACZ92P', 'TOPDYTSGCVTDKZVV'], 'TOPE6VTQWXG4YPGJ': ['TOPE6VTQHBZRB6GZ', 'TOPE6VTQHJGUQ63C'], 'TOPE6SDNFPJUHYG9': ['TOPE6SDME2TSB7TM'], 'TOPE73V5DQWRM6SF': ['TOPE73V5SZUHZCPP', 'TOPE73V5NJGG4VSR'], 'TOPE73V5SZUHZCPP': ['TOPE73V5DQWRM6SF', 'TOPE73V5NJGG4VSR'], 'TOPE6KWBD86VKUMV': ['TOPE6KWBFAARWGHG'], 'TOPE7D5P3CA9KVB6': ['TOPE7D5PRGXW6FZH', 'TOPE7D5PPG6AHCAG'], 'TOPEYW3NKXTHYZYG': ['TOPEYW3NEZMBKTSN', 'TOPEYW3NDHKPFZFN'], 'TOPE7U8MW5DPK2MV': ['TOPE7G33BKEXZZHT', 'TOPE7U8MTATAGP5P', 'TOPE7U8MSDMAP6FE', 'TOPE7U8MDZ2MCHXH'], 'TOPE7U8MDZ2MCHXH': ['TOPE7G33BKEXZZHT', 'TOPE7U8MTATAGP5P', 'TOPE7U8MSDMAP6FE', 'TOPE7U8MW5DPK2MV'], 'TOPE7U8MNN6TVTAE': ['TOPE7U8MGRG59CZQ', 'TOPE7U8MNPG6H55A'], 'TOPEYW3NEZMBKTSN': ['TOPEYW3NKXTHYZYG', 'TOPEYW3NDHKPFZFN'], 'TOPEYW3ZXVGSKHVW': ['TOPEYW3NT4RDHGMK'], 'TOPE83AFYHHVZF35': ['TOPE83AFJQK2XRSH', 'TOPE83AFNNSMWYHT', 'TOPE83AFJBFDMRMB'], 'TOPEYW3NDHKPFZFN': ['TOPEYW3NKXTHYZYG', 'TOPEYW3NEZMBKTSN'], 'TOPE88MKYXMQYCDD': ['TOPE88MK2ZZDG5SY'], 'TOPE88MK2ZZDG5SY': ['TOPE88MKYXMQYCDD'], 'TOPE994GK5KND2BH': ['TOPE994GZ7CZPFBY', 'TOPE994GWSFGHZQG'], 'TOPE994GZ7CZPFBY': ['TOPE994GK5KND2BH', 'TOPE994GWSFGHZQG'], 'TOPE994GWSFGHZQG': ['TOPE994GK5KND2BH', 'TOPE994GZ7CZPFBY'], 'TOPE7TXKFK3T4VAF': ['TOPE7TXKGWNKXRRT'], 'TOPE7TXKGWNKXRRT': ['TOPE7TXKFK3T4VAF'], 'TOPE6SDMHPEYPTBT': ['TOPE6SDMVJJA5VY3'], 'TOPE6TCAHCEFGNBB': ['TOPE6TCAG2HGTHMU', 'TOPE6TCAFNZ3QYMR'], 'TOPE6TCAHFQN6UNG': ['TOPE6TCA83Z3AKJU'], 'TOPE5U3ET5F4PS9H': ['TOPE5U3EZBC5H3P4'], 'TOPE8C7QYYHZRXWZ': ['TOPE8C7QXWRXHCGK'], 'TOPE7ZGAWTVPMZQV': ['TOPE7ZGA597TVUBG'], 'TOPE735KHHETWS6G': ['TOPE735KXMHTAYWG'], 'TOPE735KRVHU34CT': ['TOPE735KVHKJQPGW', 'TOPE735KR5QBZRNC'], 'TOPE735KVHKJQPGW': ['TOPE735KRVHU34CT', 'TOPE735KR5QBZRNC'], 'TOPE735KR5QBZRNC': ['TOPE735KRVHU34CT', 'TOPE735KVHKJQPGW'], 'TOPE8PZ4GCEGHJWC': ['TOPE8PZ4Z4WY8SUA', 'TOPE8PZ4ZZASZHYG'], 'TOPE8C7QXWRXHCGK': ['TOPE8C7QYYHZRXWZ'], 'TOPE8PZ4DFYEZ54Z': ['TOPE8PZ4WZBE9ENW'], 'TOPE6H7K8ZBNBZGJ': ['TOPE6H7KCBNUFWGA'], 'TOPEAZEYFZRZYMAZ': ['TOPEAZEYZSV269S4'], 'TOPE6GJHAQXEHYZC': ['TOPE6GJH76ZR44VR'], 'TOPE6GJHPZVYW5ZU': ['TOPE6GJHGBSFKT2A'], 'TOPE45X2S8ARHZH3': ['TOPE45X223RCVZZF'], 'TOPE8YZWMGVXWRGK': ['TOPE8YZWZ6HVARJZ'], 'TOPE8PZ4Z4WY8SUA': ['TOPE8PZ4GCEGHJWC', 'TOPE8PZ4ZZASZHYG'], 'TOPE8PZ4ZZASZHYG': ['TOPE8PZ4GCEGHJWC', 'TOPE8PZ4Z4WY8SUA'], 'TOPE7D5PRGXW6FZH': ['TOPE7D5P3CA9KVB6', 'TOPE7D5PPG6AHCAG'], 'TOPE7D5PPG6AHCAG': ['TOPE7D5P3CA9KVB6', 'TOPE7D5PRGXW6FZH'], 'TOPE735KXMHTAYWG': ['TOPE735KHHETWS6G'], 'TOPE5U3EZBC5H3P4': ['TOPE5U3ET5F4PS9H'], 'TOPEAZEYZSV269S4': ['TOPEAZEYFZRZYMAZ'], 'TOPE7U8MNPG6H55A': ['TOPE7U8MGRG59CZQ', 'TOPE7U8MNN6TVTAE'], 'TOPE8PZ4DVWGUVDK': ['TOPE8PZ4GSZSXVRR'], 'TOPE8PZ4WJGRU6AM': ['TOPE8PZ4GRJMDBMG'], 'TOPE8PZ4GSZSXVRR': ['TOPE8PZ4DVWGUVDK'], 'TOPE8PZ4GRJMDBMG': ['TOPE8PZ4WJGRU6AM'], 'TOPE8YZWZZWQFG2Y': ['TOPE8YZWSKFZT6ZK'], 'TOPE9ABBKXFEGUQZ': ['TOPE9ABBAZNPYEQM'], 'TOPE6GFSAAQ23SPJ': ['TOPE6GFSHGKRYVRT', 'TOPE6GFS7PGTZN3G'], 'TOPE6JGYFAR3XBUK': ['TOPE6JGY2W9YDQVH'], 'TOPE6GJGGHG3WR9G': ['TOPE6GJGQBS3B5MQ'], 'TOPE6GJGQBS3B5MQ': ['TOPE6GJGGHG3WR9G'], 'TOPE8YNSHG3T75JF': ['TOPE8YNSSVHGDWFM'], 'TOPE8YNSSVHGDWFM': ['TOPE8YNSHG3T75JF'], 'TOPE6VTQHJGUQ63C': ['TOPE6VTQHBZRB6GZ', 'TOPE6VTQWXG4YPGJ'], 'TOPE8YNSXEJQYWST': ['TOPE8YNSX38BRHVP', 'TOPE8YNSCDFTFKHT'], 'TOPE8YNSX38BRHVP': ['TOPE8YNSXEJQYWST', 'TOPE8YNSCDFTFKHT'], 'TOPE8YNSCDFTFKHT': ['TOPE8YNSXEJQYWST', 'TOPE8YNSX38BRHVP'], 'TOPE6GJHGBSFKT2A': ['TOPE6GJHPZVYW5ZU'], 'TOPE6GJH76ZR44VR': ['TOPE6GJHAQXEHYZC'], 'TOPE8PZ4ZSRVVFGG': ['TOPE8PZ4W4TFEDYF'], 'TOPE7XCG6RKAFVMX': ['TOPE7XCGVYDA4HPE'], 'TOPE8PZ4WZBE9ENW': ['TOPE8PZ4DFYEZ54Z'], 'TOPE8PZ4W4TFEDYF': ['TOPE8PZ4ZSRVVFGG'], 'TOPE9ABBAZNPYEQM': ['TOPE9ABBKXFEGUQZ'], 'TOPE8P9AQZJFPAYQ': ['TOPE8P9AYFHYVJF4'], 'TOPE2K66RZMGYQFF': ['TOPE2K66WHY6R4BH'], 'TOPE7PGXQCKWJKSA': ['TOPE7PGXRHDQPTNZ'], 'TOPE8ZHJJW66WKUC': ['TOPE8ZHJFYHBPBNH', 'TOPE8ZHJYVFEHZAJ'], 'TOPE6HURGVFTKYMQ': ['TOPE6HURHA8CKBRU'], 'TOPE6JGY2W9YDQVH': ['TOPE6JGYFAR3XBUK'], 'TOPE6HURHA8CKBRU': ['TOPE6HURGVFTKYMQ'], 'TOPE2K66WHY6R4BH': ['TOPE2K66RZMGYQFF'], 'TOPE6GFSHGKRYVRT': ['TOPE6GFSAAQ23SPJ', 'TOPE6GFS7PGTZN3G'], 'TOPE6GFSHDUPZRYV': ['TOPE6GFSNUNMA9ZQ'], 'TOPE6GFS7PGTZN3G': ['TOPE6GFSAAQ23SPJ', 'TOPE6GFSHGKRYVRT'], 'TOPE6GFSNUNMA9ZQ': ['TOPE6GFSHDUPZRYV'], 'TOPE7PGXRHDQPTNZ': ['TOPE7PGXQCKWJKSA'], 'TOPE8ZWVWEU52HXF': ['TOPE8ZWVXGCGSZDN'], 'TOPE8ZWVXGCGSZDN': ['TOPE8ZWVWEU52HXF'], 'TOPE6SDMVZR5TPQH': ['TOPE6SDMHNKV7YC9', 'TOPE6SDM89JSNZP3', 'TOPE6SDM4HJHHVG2', 'TOPE6SDMDGHVR2XP'], 'TOPE8YZWZ6HVARJZ': ['TOPE8YZWMGVXWRGK'], 'TOPE8YZWBSXMSH6M': ['TOPE8YZWPP8CRGHY'], 'TOPE88MJWJGR5Q9P': ['TOPE88MJCGX92HZ7'], 'TOPE73V5VJF3QQKP': ['TOPE73V5HTEDKPAP', 'TOPE73V5PBDPSRA4', 'TOPE73V5BCZNXDCR', 'TOPE73V5CR8DJVGY'], 'TOPE6Q6RY4FHBYXJ': ['TOPE6Q6RJZUHUXFH', 'TOPE6Q6R7ZWC7HY7'], 'TOPE8N3BAE7QWZFY': ['TOPE8N3BA6GWTCEW', 'TOPE8N3BYT2WN5H7'], 'TOPE8YZWPP8CRGHY': ['TOPE8YZWBSXMSH6M'], 'TOPE8YZWSKFZT6ZK': ['TOPE8YZWZZWQFG2Y'], 'TOPE6RN4S4GSPXRE': ['TOPE6RN4GEWQHGEF', 'TOPE6RN4ZFY4FDQD'], 'TOPE6RN4GEWQHGEF': ['TOPE6RN4S4GSPXRE', 'TOPE6RN4ZFY4FDQD'], 'TOPE6H7K8FNNHR5S': ['TOPE6H7KZHBH9RXG', 'TOPE6H7KDMERR6QY'], 'TOPE6H7KZF6QRUAV': ['TOPE6H7KGE76KGXV'], 'TOPE6H7KFHZVYNWE': ['TOPE6H7K5FVHFBPK', 'TOPE6H7KTHJMNFJV'], 'TOPE6H7VTMDXBVV2': ['TOPE6H7VMGMYFWUM'], 'TOPE6H7KZHBH9RXG': ['TOPE6H7K8FNNHR5S', 'TOPE6H7KDMERR6QY'], 'TOPE6H7KUSTYW33M': ['TOPE6H7KMZDKW35R'], 'TOPE6H7K6ZMFRHSH': ['TOPE6H7KAY6GZRUC'], 'TOPE6H7K2CZTPSZS': ['TOPE6H7KH3NHHCSZ', 'TOPE6H7KYEHJ72FV'], 'TOPE6H7KXW7SHHPN': ['TOPE6H7KNQG3CDWX', 'TOPE6H7KBUBHR2VR', 'TOPE6H7KK3GYHNBK'], 'TOPE6H7KBECFTMDD': ['TOPE6H7KZFHKYHHY'], 'TOPE6H7KTGSPYPHF': ['TOPE6H7KFKZGPZF4', 'TOPE6H7KJJDE4DX8'], 'TOPE6H7KPZZMM4HW': ['TOPE6H7KGPVXWQAB'], 'TOPE6H7K5FVHFBPK': ['TOPE6H7KFHZVYNWE', 'TOPE6H7KTHJMNFJV'], 'TOPE6H7KG9GXDZXP': ['TOPE6H7KGZZZPZUJ'], 'TOPE6H7VZ2WSKKDH': ['TOPE6H7VXY9ME644', 'TOPE6H7VDCFMJG2X'], 'TOPE6H7K49H2QZVE': ['TOPE6H7KPABTQAYC'], 'TOPE6H7KFKZGPZF4': ['TOPE6H7KTGSPYPHF', 'TOPE6H7KJJDE4DX8'], 'TOPE6Q6RYQGFCYGR': ['TOPE6Q6RQS9NBXG7', 'TOPE6Q6REXUZXHD3'], 'TOPE6H7VZBZVYUYG': ['TOPE6H7VHRQZCYHN', 'TOPE6H7VGJVMCKKT'], 'TOPE6Q6RQS9NBXG7': ['TOPE6Q6RYQGFCYGR', 'TOPE6Q6REXUZXHD3'], 'TOPE6Q6REXUZXHD3': ['TOPE6Q6RYQGFCYGR', 'TOPE6Q6RQS9NBXG7'], 'TOPE6Q6RJZUHUXFH': ['TOPE6Q6RY4FHBYXJ', 'TOPE6Q6R7ZWC7HY7'], 'TOPE6Q6R7ZWC7HY7': ['TOPE6Q6RY4FHBYXJ', 'TOPE6Q6RJZUHUXFH'], 'TOPE6H7VMGMYFWUM': ['TOPE6H7VTMDXBVV2'], 'TOPE6H7KJJDE4DX8': ['TOPE6H7KTGSPYPHF', 'TOPE6H7KFKZGPZF4'], 'TOPE6H7KNW8RPKPZ': ['TOPE6H7KDPSPGTFJ', 'TOPE6H7KJH49YE7E'], 'TOPE6H7VHRQZCYHN': ['TOPE6H7VZBZVYUYG', 'TOPE6H7VGJVMCKKT'], 'TOPE6H7KGZZZPZUJ': ['TOPE6H7KG9GXDZXP'], 'TOPE6H7KZVF6RXSY': ['TOPE6H7KGHH7CWRZ'], 'TOPE6H7KFR6FXHKM': ['TOPE6H7KSBBQY7WX'], 'TOPE6H7V6FGPVEFH': ['TOPE6H7V2DAFQFEG', 'TOPE6H7VMN7ZGN5A'], 'TOPE6H7KM5HMWW52': ['TOPE6H7KGXK8F2KM', 'TOPE6H7KUHDN6VWE'], 'TOPE6H7KUGZXMTUG': ['TOPE6H7KZPJZFDPN'], 'TOPE6H7K6XUYRMHP': ['TOPE6H7KG64FH9TZ'], 'TOPE6H7VXYMQXPVU': ['TOPE6H7V3P7RYCZN'], 'TOPE6H7KGHH7CWRZ': ['TOPE6H7KZVF6RXSY'], 'TOPE6H7KDPSPGTFJ': ['TOPE6H7KNW8RPKPZ', 'TOPE6H7KJH49YE7E'], 'TOPE6H7KAY6GZRUC': ['TOPE6H7K6ZMFRHSH'], 'TOPE6H7KGXK8F2KM': ['TOPE6H7KM5HMWW52', 'TOPE6H7KUHDN6VWE'], 'TOPE6H7KNQG3CDWX': ['TOPE6H7KXW7SHHPN', 'TOPE6H7KBUBHR2VR', 'TOPE6H7KK3GYHNBK'], 'TOPE6H7KH3NHHCSZ': ['TOPE6H7K2CZTPSZS', 'TOPE6H7KYEHJ72FV'], 'TOPE6H7VXY9ME644': ['TOPE6H7VZ2WSKKDH', 'TOPE6H7VDCFMJG2X'], 'TOPE6H7KZPJZFDPN': ['TOPE6H7KUGZXMTUG'], 'TOPE6H7KBHB43DFH': ['TOPE6H7KUUXQXFDC'], 'TOPE6H7KPABTQAYC': ['TOPE6H7K49H2QZVE'], 'TOPE6H7KUUXQXFDC': ['TOPE6H7KBHB43DFH'], 'TOPE6H7VGJVMCKKT': ['TOPE6H7VZBZVYUYG', 'TOPE6H7VHRQZCYHN'], 'TOPE6H7KGE76KGXV': ['TOPE6H7KZF6QRUAV'], 'TOPE6H7KDMERR6QY': ['TOPE6H7K8FNNHR5S', 'TOPE6H7KZHBH9RXG'], 'TOPE6H7V2ZTGBYVP': ['TOPE6H7VNZGXZVQS', 'TOPE6H7VPTZTHGGZ', 'TOPE6H7VJ9XUTCBZ'], 'TOPE6H7VNZGXZVQS': ['TOPE6H7V2ZTGBYVP', 'TOPE6H7VPTZTHGGZ', 'TOPE6H7VJ9XUTCBZ'], 'TOPE6H7VDCFMJG2X': ['TOPE6H7VZ2WSKKDH', 'TOPE6H7VXY9ME644'], 'TOPE6H7KZFHKYHHY': ['TOPE6H7KBECFTMDD'], 'TOPE6H7KMZDKW35R': ['TOPE6H7KUSTYW33M'], 'TOPE6H7KBUBHR2VR': ['TOPE6H7KXW7SHHPN', 'TOPE6H7KNQG3CDWX', 'TOPE6H7KK3GYHNBK'], 'TOPE6H7KYGNEEQX2': ['TOPE6H7KCQZ8PZRY'], 'TOPE6H7VGMAZPUUG': ['TOPE6H7VMCSANSQZ'], 'TOPE6RN4ZFY4FDQD': ['TOPE6RN4S4GSPXRE', 'TOPE6RN4GEWQHGEF'], 'TOPE73V5NJGG4VSR': ['TOPE73V5DQWRM6SF', 'TOPE73V5SZUHZCPP'], 'TOPE6TJYN3A28YBR': ['TOPE6TJYGRVHM7ZH'], 'TOPE8E3YKXGEJHQH': ['TOPE8E3YVMFZ6XZH'], 'TOPE7ZGA597TVUBG': ['TOPE7ZGAWTVPMZQV'], 'TOPE6SDMVJJA5VY3': ['TOPE6SDMHPEYPTBT'], 'TOPE8E3YVMFZ6XZH': ['TOPE8E3YKXGEJHQH'], 'TOPE6TJYGRVHM7ZH': ['TOPE6TJYN3A28YBR'], 'TOPE6H7KCQZ8PZRY': ['TOPE6H7KYGNEEQX2'], 'TOPE6H7KSBBQY7WX': ['TOPE6H7KFR6FXHKM'], 'TOPE6H7KTHXD6EJG': ['TOPE6H7K5WKNZ6ES'], 'TOPE6H7KYEHJ72FV': ['TOPE6H7K2CZTPSZS', 'TOPE6H7KH3NHHCSZ'], 'TOPE8N3BA6GWTCEW': ['TOPE8N3BAE7QWZFY', 'TOPE8N3BYT2WN5H7'], 'TOPE6H7KHWTMSEYF': ['TOPE6H7KNYBSYYCN', 'TOPE6H7K4SBJNJRT'], 'TOPE83AFDDNXUYVT': ['TOPE83AFK7WKBVQ5', 'TOPE83AFNDQX8Q5D'], 'TOPE6H7VMCSANSQZ': ['TOPE6H7VGMAZPUUG'], 'TOPE6H7VH5ZQTVAA': ['TOPE6H7VJBGXXBBF'], 'TOPE6H7VPTZTHGGZ': ['TOPE6H7V2ZTGBYVP', 'TOPE6H7VNZGXZVQS', 'TOPE6H7VJ9XUTCBZ'], 'TOPE6H7K9DQGH6A7': ['TOPE6H7KN7SZ5HXF', 'TOPE6H7KFXGZ62MD'], 'TOPE6H7KUHDN6VWE': ['TOPE6H7KM5HMWW52', 'TOPE6H7KGXK8F2KM'], 'TOPE6H7KTHJMNFJV': ['TOPE6H7KFHZVYNWE', 'TOPE6H7K5FVHFBPK'], 'TOPE6H7KNYBSYYCN': ['TOPE6H7KHWTMSEYF', 'TOPE6H7K4SBJNJRT'], 'TOPE6H7V2DAFQFEG': ['TOPE6H7V6FGPVEFH', 'TOPE6H7VMN7ZGN5A'], 'TOPE6H7K4SBJNJRT': ['TOPE6H7KHWTMSEYF', 'TOPE6H7KNYBSYYCN'], 'TOPE6H7K5WKNZ6ES': ['TOPE6H7KTHXD6EJG'], 'TOPE88MJCGX92HZ7': ['TOPE88MJWJGR5Q9P'], 'TOPE6H7V3P7RYCZN': ['TOPE6H7VXYMQXPVU'], 'TOPE6H7KN7SZ5HXF': ['TOPE6H7K9DQGH6A7', 'TOPE6H7KFXGZ62MD'], 'TOPE6H7KK3GYHNBK': ['TOPE6H7KXW7SHHPN', 'TOPE6H7KNQG3CDWX', 'TOPE6H7KBUBHR2VR'], 'TOPE6H7KGPVXWQAB': ['TOPE6H7KPZZMM4HW'], 'TOPE6H7KEUVZUFAC': ['TOPE6H7K5PPDZ9TC'], 'TOPE6H7K5PPDZ9TC': ['TOPE6H7KEUVZUFAC'], 'TOPE6H7VJ9XUTCBZ': ['TOPE6H7V2ZTGBYVP', 'TOPE6H7VNZGXZVQS', 'TOPE6H7VPTZTHGGZ'], 'TOPE6H7VMN7ZGN5A': ['TOPE6H7V6FGPVEFH', 'TOPE6H7V2DAFQFEG'], 'TOPE6H7KJH49YE7E': ['TOPE6H7KNW8RPKPZ', 'TOPE6H7KDPSPGTFJ'], 'TOPE6H7KFXGZ62MD': ['TOPE6H7K9DQGH6A7', 'TOPE6H7KN7SZ5HXF'], 'TOPE6H7KG64FH9TZ': ['TOPE6H7K6XUYRMHP'], 'TOPE6H7VJBGXXBBF': ['TOPE6H7VH5ZQTVAA'], 'TOPEB7D9QX3GVWRH': ['TOPEB7D99PFVZGJ8', 'TOPEB7D9KU4FZEMR'], 'TOPEB7D99PFVZGJ8': ['TOPEB7D9QX3GVWRH', 'TOPEB7D9KU4FZEMR'], 'TOPEB7D9KU4FZEMR': ['TOPEB7D9QX3GVWRH', 'TOPEB7D99PFVZGJ8'], 'TOPE8P9AYFHYVJF4': ['TOPE8P9AQZJFPAYQ'], 'TOPE6ZFFKSAHA2KN': ['TOPE6ZFFMYHSAAGG'], 'TOPE5X8T8NQURUNT': ['TOPE5X8TYJH9ZHPP'], 'TOPE5X5KSHNYGFKX': ['TOPE5X5KFSSTXKZ5'], 'TOPE5X8TYJH9ZHPP': ['TOPE5X8T8NQURUNT'], 'TOPE6ZFFTZTTQMQS': ['TOPE6ZFFWYY6C6HU'], 'TOPE6ZFFWYY6C6HU': ['TOPE6ZFFTZTTQMQS'], 'TOPE5X5KGWSSADYA': ['TOPE5X5KVTYMSKNA'], 'TOPE6ZFGH4R4HKP4': ['TOPE6ZFGVN9KDNU9'], 'TOPE5X5KVTYMSKNA': ['TOPE5X5KGWSSADYA'], 'TOPE6ZFGVN9KDNU9': ['TOPE6ZFGH4R4HKP4'], 'TOPE5X5KFSSTXKZ5': ['TOPE5X5KSHNYGFKX'], 'TOPE6ZFFMYHSAAGG': ['TOPE6ZFFKSAHA2KN'], 'TOPE8N3BYT2WN5H7': ['TOPE8N3BAE7QWZFY', 'TOPE8N3BA6GWTCEW'], 'TOPE6ZFFRWZZGGEM': ['TOPE6ZFFDC6HJVHT'], 'TOPE6ZFFDC6HJVHT': ['TOPE6ZFFRWZZGGEM'], 'TOPEAZHBYZZR4EEZ': ['TOPEAZHBUFU2ZHZH', 'TOPEAZHBBTCZM54G'], 'TOPEAZHBUFU2ZHZH': ['TOPEAZHBYZZR4EEZ', 'TOPEAZHBBTCZM54G'], 'TOPEAZHBBTCZM54G': ['TOPEAZHBYZZR4EEZ', 'TOPEAZHBUFU2ZHZH'], 'TOPEYPCHRCCG2ZYJ': ['TOPEYPCHZSC4DGBG', 'TOPEYPCHUEYBRGKH'], 'TOPEYPCHZSC4DGBG': ['TOPEYPCHRCCG2ZYJ', 'TOPEYPCHUEYBRGKH'], 'TOPEYPCHUEYBRGKH': ['TOPEYPCHRCCG2ZYJ', 'TOPEYPCHZSC4DGBG'], 'TOPE2ZBVVBHD5PZX': ['TOPE2ZBVGE4AHHNA', 'TOPE2ZBVS6RBVNFT'], 'TOPE2ZBVGE4AHHNA': ['TOPE2ZBVVBHD5PZX', 'TOPE2ZBVS6RBVNFT'], 'TOPE2ZBVS6RBVNFT': ['TOPE2ZBVVBHD5PZX', 'TOPE2ZBVGE4AHHNA'], 'TOPE7T5FJGYKK8EA': ['TOPE7T5FXZPR4C9D'], 'TOPE7T5FXZPR4C9D': ['TOPE7T5FJGYKK8EA'], 'TOPE8SEUQJ3FM5BF': ['TOPE8SEUM9G7RYP9', 'TOPE8SEU8QPCWDHY'], 'TOPDYTSGCVTDKZVV': ['TOPDYTSGPNACZ92P', 'TOPDYTSGZKRWPAYW'], 'TOPEAUF3MS2YBHUZ': ['TOPEAUF3NYWWV7F4'], 'TOPEAZDGA4DFPVEU': ['TOPEAZDGPJ2BWYRA'], 'TOPEAUF3NYWWV7F4': ['TOPEAUF3MS2YBHUZ'], 'TOPEAZDGPJ2BWYRA': ['TOPEAZDGA4DFPVEU'], 'TOPEAZFCRHUBKFGX': ['TOPEAZFC6FHHGUGM'], 'TOPEAZFC6FHHGUGM': ['TOPEAZFCRHUBKFGX'], 'TOPEA39VWMXMS9GH': ['TOPEA39VQW6ZUBMG'], 'TOPEA39VQW6ZUBMG': ['TOPEA39VWMXMS9GH'], 'TOPECXDGVWC2YF3U': ['TOPECXDHVPGHFEVV'], 'TOPECXDHVPGHFEVV': ['TOPECXDGVWC2YF3U'], 'TOPEAF7WNU84SJ6Z': ['TOPEAF7WRGWGJRUP'], 'TOPEAF7WKZDBZZWH': ['TOPEAF7WF28KMFEH'], 'TOPEAF7WRGWGJRUP': ['TOPEAF7WNU84SJ6Z'], 'TOPEAF7WF28KMFEH': ['TOPEAF7WKZDBZZWH'], 'TOPEC87QRGFFMRAG': ['TOPEC87QSSEDNKAW'], 'TOPEC87QSSEDNKAW': ['TOPEC87QRGFFMRAG']}\n"
     ]
    }
   ],
   "source": [
    "print(dict_duplicates)"
   ]
  },
  {
   "cell_type": "code",
   "execution_count": null,
   "metadata": {},
   "outputs": [],
   "source": []
  }
 ],
 "metadata": {
  "kernelspec": {
   "display_name": "Python 3",
   "language": "python",
   "name": "python3"
  },
  "language_info": {
   "codemirror_mode": {
    "name": "ipython",
    "version": 3
   },
   "file_extension": ".py",
   "mimetype": "text/x-python",
   "name": "python",
   "nbconvert_exporter": "python",
   "pygments_lexer": "ipython3",
   "version": "3.6.5"
  }
 },
 "nbformat": 4,
 "nbformat_minor": 2
}
